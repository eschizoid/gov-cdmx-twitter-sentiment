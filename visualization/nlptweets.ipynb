{
 "cells": [
  {
   "cell_type": "markdown",
   "metadata": {},
   "source": [
    "### Twitter Sentiment Analysis - Gov CDMX"
   ]
  },
  {
   "cell_type": "code",
   "execution_count": null,
   "metadata": {
    "pycharm": {
     "name": "#%%\n"
    }
   },
   "outputs": [],
   "source": [
    "import matplotlib.dates as mdates\n",
    "import matplotlib.pyplot as plt\n",
    "import numpy as np\n",
    "import pandas as pd\n",
    "from tensorflow.python.lib.io import file_io"
   ]
  },
  {
   "cell_type": "code",
   "execution_count": null,
   "metadata": {
    "pycharm": {
     "name": "#%%\n"
    }
   },
   "outputs": [],
   "source": [
    "!export GOOGLE_APPLICATION_CREDENTIALS=\"/Users/admin/Downloads/gov-cdmx-twitter-sentiment-3479e766b2c0.json\"\n",
    "!export PATH=\"/usr/local/Caskroom/google-cloud-sdk/latest/google-cloud-sdk/bin:/usr/local/bin:/usr/bin:/bin:/usr/sbin:/sbin:/Library/TeX/texbin:/Users/admin/development/gov-cdmx-twitter-sentiment/streaming/env/bin:/usr/local/Caskroom/google-cloud-sdk/latest/google-cloud-sdk/bin:/usr/local/sbin:/Users/admin/golang/bin:/usr/local/Cellar/go/1.13/libexec/bin:/Users/admin/lib:/Users/admin/golang/bin:/usr/local/Cellar/go/1.13/libexec/bin:/Users/admin/lib:/Library/TeX/texbin\""
   ]
  },
  {
   "cell_type": "code",
   "execution_count": null,
   "metadata": {
    "pycharm": {
     "name": "#%%\n"
    }
   },
   "outputs": [],
   "source": [
    "!pip install --upgrade google-api-python-client"
   ]
  },
  {
   "cell_type": "code",
   "execution_count": null,
   "metadata": {
    "pycharm": {
     "name": "#%%\n"
    }
   },
   "outputs": [],
   "source": [
    "%!bq tables describe --name gov-cdmx-twitter-sentiment:gov_cdmx_twitter_sentiment.tweets"
   ]
  },
  {
   "cell_type": "markdown",
   "metadata": {},
   "source": [
    "Now that the data is in bigquery we can save a section to cloud storage or grab it direct from bigquery."
   ]
  },
  {
   "cell_type": "code",
   "execution_count": null,
   "metadata": {
    "pycharm": {
     "name": "#%%\n"
    }
   },
   "outputs": [],
   "source": [
    "with file_io.FileIO('gs://gov-cdmx-twitter-sentiment/nlpstorage/bq-results-20200618-160924-nmrdfhmw1ddj.csv', 'r') as f:\n",
    "    df = pd.read_csv(f)"
   ]
  },
  {
   "cell_type": "code",
   "execution_count": null,
   "metadata": {
    "pycharm": {
     "name": "#%%\n"
    }
   },
   "outputs": [],
   "source": [
    "df.head()"
   ]
  },
  {
   "cell_type": "code",
   "execution_count": null,
   "metadata": {
    "pycharm": {
     "name": "#%%\n"
    }
   },
   "outputs": [],
   "source": [
    "print(df['user_text'][0])\n",
    "print(len(df['user_text']))"
   ]
  },
  {
   "cell_type": "code",
   "execution_count": null,
   "metadata": {
    "pycharm": {
     "name": "#%%\n"
    }
   },
   "outputs": [],
   "source": [
    "rts=df[df['user_text'].str.match('\"RT')]\n",
    "print(\"Retweets \", len(rts['user_text']))\n",
    "cdmx=df[df['user_text'].str.contains('#CDMX')]\n",
    "print(\"#CDMX\", len(cdmx['user_text']))"
   ]
  },
  {
   "cell_type": "code",
   "execution_count": null,
   "metadata": {
    "pycharm": {
     "name": "#%%\n"
    }
   },
   "outputs": [],
   "source": [
    "from google.cloud import language\n",
    "from google.cloud.language import enums\n",
    "from google.cloud.language import types\n",
    "from google.oauth2 import service_account\n",
    "from google.protobuf.json_format import MessageToDict\n",
    "\n",
    "score=[]\n",
    "magnitude=[]\n",
    "creds = service_account.Credentials.from_service_account_file('/Users/admin/Downloads/gov-cdmx-twitter-sentiment-53dba8db6dbd.json')\n",
    "client = language.LanguageServiceClient(credentials=creds)\n",
    "\n",
    "for tweet in cdmx['user_text']:\n",
    "    document = types.Document(\n",
    "    content=tweet,\n",
    "    type=enums.Document.Type.PLAIN_TEXT\n",
    "    )\n",
    "    analyze_sentiment_response = client.analyze_sentiment(document=document)\n",
    "    message = MessageToDict(analyze_sentiment_response, including_default_value_fields=True)\n",
    "    score.append(message['documentSentiment']['score'])\n",
    "    magnitude.append(message['documentSentiment']['magnitude'])\n",
    "\n",
    "print(len(score))\n",
    "# print('POLARITY=%s MAGNITUDE=%s for %s' % (score, magnitude, tweet))"
   ]
  },
  {
   "cell_type": "code",
   "execution_count": null,
   "metadata": {
    "pycharm": {
     "name": "#%%\n"
    }
   },
   "outputs": [],
   "source": [
    "cdmx['score']=score\n",
    "cdmx['magnitude']=magnitude\n",
    "cdmx.head()"
   ]
  },
  {
   "cell_type": "code",
   "execution_count": null,
   "metadata": {
    "pycharm": {
     "name": "#%%\n"
    }
   },
   "outputs": [],
   "source": [
    "cdmx['datef']=pd.to_datetime(cdmx['tweet_timestamp'], unit='s', yearfirst='TRUE')\n",
    "cdmx['datef'].head()"
   ]
  },
  {
   "cell_type": "code",
   "execution_count": null,
   "metadata": {
    "pycharm": {
     "name": "#%%\n"
    }
   },
   "outputs": [],
   "source": [
    "#averages\n",
    "score_avg=np.mean(cdmx['score'])\n",
    "magnitude_evg=np.mean(cdmx['magnitude'])\n",
    "print('score', score_avg, 'magnitude', magnitude_evg)"
   ]
  },
  {
   "cell_type": "code",
   "execution_count": null,
   "metadata": {
    "pycharm": {
     "is_executing": true,
     "name": "#%%\n"
    }
   },
   "outputs": [],
   "source": [
    "data = pd.concat([cdmx['datef'], cdmx['magnitude']], axis=1)\n",
    "data.set_index('datef',inplace=True)\n",
    "fig, ax = plt.subplots(figsize=(15,7))\n",
    "data.plot(ax=ax, legend=False)\n",
    "ax.axhline(y=magnitude_evg, linewidth=4, color='r')\n",
    "ax.xaxis.set_major_locator(mdates.MinuteLocator(interval=5))\n",
    "ax.xaxis.set_major_formatter(mdates.DateFormatter('%M'))\n",
    "ax.set_xlabel('Date July 10th ~3:30 P.M')\n",
    "ax.set_ylabel('Magnitude')"
   ]
  },
  {
   "cell_type": "code",
   "execution_count": null,
   "metadata": {
    "pycharm": {
     "is_executing": true,
     "name": "#%%\n"
    }
   },
   "outputs": [],
   "source": [
    "data2 = pd.concat([cdmx['datef'], cdmx['score']], axis=1)\n",
    "data2.set_index('datef',inplace=True)\n",
    "fig, ax2 = plt.subplots(figsize=(15,7))\n",
    "data2.plot(ax=ax2, legend=False)\n",
    "ax2.axhline(y=score_avg, linewidth=4, color='r')\n",
    "ax2.xaxis.set_major_locator(mdates.MinuteLocator(interval=5))\n",
    "ax2.xaxis.set_major_formatter(mdates.DateFormatter('%M'))\n",
    "ax2.set_xlabel('Date July 10th ~3:30 P.M')\n",
    "ax2.set_ylabel('Score')"
   ]
  },
  {
   "cell_type": "markdown",
   "metadata": {},
   "source": [
    "High magnitude tweets are more impactful than low magnitude tweets, a weak statement doesn't say much.\n",
    "We will concentrate only on statements with a magnitude of 0.5 or higher."
   ]
  },
  {
   "cell_type": "code",
   "execution_count": null,
   "metadata": {
    "pycharm": {
     "is_executing": true,
     "name": "#%%\n"
    }
   },
   "outputs": [],
   "source": [
    "fig, ax = plt.subplots()\n",
    "ax.figure.set_size_inches(10,4)\n",
    "ax.grid(False)\n",
    "ax.scatter(cdmx.magnitude, cdmx.score, s=120, c='black', alpha=0.5)\n",
    "ax.set(xlabel='magnitude', ylabel='score')\n",
    "plt.show()"
   ]
  },
  {
   "cell_type": "markdown",
   "metadata": {},
   "source": [
    "We can also see that things around zero polarity (neither very positive nor negative) are not interesting to flag "
   ]
  },
  {
   "cell_type": "code",
   "execution_count": null,
   "metadata": {
    "pycharm": {
     "name": "#%%\n"
    }
   },
   "outputs": [],
   "source": [
    "love=cdmx[(cdmx['magnitude'] >=0.5) & (cdmx['score'] >=0.5)]\n",
    "hate=cdmx[(cdmx['magnitude'] >=0.5) & (cdmx['score'] <= -0.5)]"
   ]
  },
  {
   "cell_type": "code",
   "execution_count": null,
   "metadata": {
    "pycharm": {
     "name": "#%%\n"
    }
   },
   "outputs": [],
   "source": [
    "print(len(cdmx['magnitude']), len(love['magnitude']), len(hate['magnitude']))\n",
    "print(\"weak\", len(cdmx['magnitude']) - (len(love['magnitude'])+len(hate['magnitude'])))"
   ]
  },
  {
   "cell_type": "code",
   "execution_count": null,
   "metadata": {
    "pycharm": {
     "name": "#%%\n"
    }
   },
   "outputs": [],
   "source": [
    "labels = ['loves', 'hates', 'weak']\n",
    "sizes = [7, 0, 38]\n",
    "colors = ['gold', 'lightskyblue', 'lightcoral']\n",
    "patches, texts = plt.pie(sizes, colors=colors, shadow=True, startangle=90)\n",
    "plt.legend(patches, labels, loc=\"best\")\n",
    "plt.axis('equal')\n",
    "plt.tight_layout()\n",
    "plt.show()"
   ]
  },
  {
   "cell_type": "code",
   "execution_count": null,
   "metadata": {
    "pycharm": {
     "name": "#%%\n"
    }
   },
   "outputs": [],
   "source": [
    "fig, ax= plt.subplots()\n",
    "ax.scatter(love.magnitude, love.score, s=120, c='purple', alpha=0.5)\n",
    "ax.scatter(hate.magnitude, hate.score, s=120, c='red', alpha=0.5)\n",
    "ax.figure.set_size_inches(10,4)\n",
    "ax.grid(False) \n",
    "ax.set(xlabel='magnitude >0.5', ylabel='abs(score) >=0.5')\n",
    "plt.show()"
   ]
  },
  {
   "cell_type": "code",
   "execution_count": null,
   "metadata": {
    "pycharm": {
     "name": "#%%\n"
    }
   },
   "outputs": [],
   "source": [
    "fig, ax1 = plt.subplots()\n",
    "ax1.set_xlabel('Date July 10th ~3:30 P.M')\n",
    "ax1.set_ylabel('magnitude')\n",
    "ax1.grid(False)\n",
    "ax1.xaxis.set_major_locator(mdates.MinuteLocator(interval=5))\n",
    "ax1.xaxis.set_major_formatter(mdates.DateFormatter('%M'))\n",
    "ax1.figure.set_size_inches(10,4)\n",
    "ax1.plot(love['datef'], love['magnitude'], 'g*', markersize=20, alpha=0.5)\n",
    "ax1.plot(hate['datef'], hate['magnitude'], 'r*', markersize=20, alpha=0.5)\n",
    "ax2=ax1.twinx()\n",
    "ax2.grid(False)\n",
    "ax2.plot(love.datef, love.score, 'g.', markersize=20, alpha=0.5)\n",
    "ax2.plot(hate.datef, hate.score, 'r.', markersize=20, alpha=0.5)\n",
    "ax2.set_ylabel('score')\n",
    "plt.show()"
   ]
  },
  {
   "cell_type": "code",
   "execution_count": null,
   "metadata": {
    "pycharm": {
     "name": "#%%\n"
    }
   },
   "outputs": [],
   "source": [
    "fig, ax = plt.subplots()\n",
    "ax.set_xlabel('Date July 10th ~3:30 P.M')\n",
    "ax.grid(False)\n",
    "ax.xaxis.set_major_locator(mdates.MinuteLocator(interval=5))\n",
    "ax.xaxis.set_major_formatter(mdates.DateFormatter('%M'))\n",
    "ax.figure.set_size_inches(10,4)\n",
    "ax.plot(love['datef'], love['magnitude'], 'g', linestyle=':', marker='*', linewidth=2, markersize=20, alpha=0.5)\n",
    "ax.plot(hate['datef'], hate['magnitude'], 'k', linestyle=':', marker='.', linewidth=2, markersize=20, alpha=0.5)\n",
    "ax.set_ylabel('magnitude')\n",
    "plt.show()"
   ]
  },
  {
   "cell_type": "code",
   "execution_count": null,
   "metadata": {
    "pycharm": {
     "name": "#%%\n"
    }
   },
   "outputs": [],
   "source": [
    "fig, ax = plt.subplots()\n",
    "ax.set_xlabel('Date July 10th ~3:30 P.M')\n",
    "ax.set_ylabel('score')\n",
    "ax.grid(False)\n",
    "ax.xaxis.set_major_locator(mdates.MinuteLocator(interval=5))\n",
    "ax.xaxis.set_major_formatter(mdates.DateFormatter('%M'))\n",
    "ax.figure.set_size_inches(10,4)\n",
    "ax.plot(love['datef'], love['score'], 'b', linestyle=':', marker='.', linewidth=2, markersize=20, alpha=0.5)\n",
    "ax.plot(hate['datef'], hate['score'], 'r', linestyle=':', marker='.', linewidth=2, markersize=20, alpha=0.5)\n",
    "plt.show()"
   ]
  },
  {
   "cell_type": "code",
   "execution_count": null,
   "metadata": {
    "pycharm": {
     "name": "#%%\n"
    }
   },
   "outputs": [],
   "source": []
  }
 ],
 "metadata": {
  "kernelspec": {
   "display_name": "Python 3",
   "language": "python",
   "name": "python3"
  },
  "language_info": {
   "codemirror_mode": {
    "name": "ipython",
    "version": 3
   },
   "file_extension": ".py",
   "mimetype": "text/x-python",
   "name": "python",
   "nbconvert_exporter": "python",
   "pygments_lexer": "ipython3",
   "version": "3.7.7"
  }
 },
 "nbformat": 4,
 "nbformat_minor": 2
}