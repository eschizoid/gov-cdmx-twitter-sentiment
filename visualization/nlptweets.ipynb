{
 "cells": [
  {
   "cell_type": "markdown",
   "source": [
    "### Twitter Sentiment Analysis - Gov CDMX"
   ],
   "metadata": {
    "collapsed": false
   }
  },
  {
   "cell_type": "code",
   "execution_count": null,
   "outputs": [],
   "source": [
    "from datalab.context import Context\n",
    "import google.datalab.storage as storage\n",
    "import google.datalab.bigquery as bq\n",
    "import matplotlib.pyplot as plt\n",
    "import matplotlib.dates as mdates\n",
    "import seaborn as sns\n",
    "import pandas as pd\n",
    "import numpy as np\n",
    "import shutil\n",
    "import time\n",
    "from tensorflow.python.lib.io import file_io"
   ],
   "metadata": {
    "collapsed": false,
    "pycharm": {
     "name": "#%%\n"
    }
   }
  },
  {
   "cell_type": "code",
   "execution_count": null,
   "outputs": [],
   "source": [
    "APIKEY=\"XXXXX\""
   ],
   "metadata": {
    "collapsed": false,
    "pycharm": {
     "name": "#%%\n"
    }
   }
  },
  {
   "cell_type": "code",
   "execution_count": null,
   "outputs": [],
   "source": [
    "!pip install --upgrade google-api-python-client"
   ],
   "metadata": {
    "collapsed": false,
    "pycharm": {
     "name": "#%%\n"
    }
   }
  },
  {
   "cell_type": "code",
   "execution_count": null,
   "outputs": [],
   "source": [
    "%bq tables describe --name twitter.best"
   ],
   "metadata": {
    "collapsed": false,
    "pycharm": {
     "name": "#%%\n"
    }
   }
  },
  {
   "cell_type": "markdown",
   "source": [
    "Now that the data is in bigquery we can save a section to cloud storage or grab it direct from bigquery. For this experiment we just put a small set into Google Cloud Storage."
   ],
   "metadata": {
    "collapsed": false
   }
  },
  {
   "cell_type": "code",
   "execution_count": null,
   "outputs": [],
   "source": [
    "with file_io.FileIO('gs://nlpstorage/results-20181102-141401.csv', 'r') as f:\n",
    "  df=pd.read_csv(f)"
   ],
   "metadata": {
    "collapsed": false,
    "pycharm": {
     "name": "#%%\n"
    }
   }
  },
  {
   "cell_type": "code",
   "execution_count": null,
   "outputs": [],
   "source": [
    "df.head()"
   ],
   "metadata": {
    "collapsed": false,
    "pycharm": {
     "name": "#%%\n"
    }
   }
  },
  {
   "cell_type": "code",
   "execution_count": null,
   "outputs": [],
   "source": [
    "print(df['tweet_text'][0])\n",
    "print(len(df['tweet_text']))"
   ],
   "metadata": {
    "collapsed": false,
    "pycharm": {
     "name": "#%%\n"
    }
   }
  },
  {
   "cell_type": "code",
   "execution_count": null,
   "outputs": [],
   "source": [
    "rts=df[df['tweet_text'].str.match('\"RT')]\n",
    "print(\"Retweets \", len(rts['tweet_text']))\n",
    "google=df[df['tweet_text'].str.contains('#CDMX')]\n",
    "print(\"Google \", len(google['tweet_text']))\n",
    "#another"
   ],
   "metadata": {
    "collapsed": false,
    "pycharm": {
     "name": "#%%\n"
    }
   }
  },
  {
   "cell_type": "code",
   "execution_count": null,
   "outputs": [],
   "source": [
    "from googleapiclient.discovery import build\n",
    "\n",
    "polarity=[]\n",
    "magnitude=[]\n",
    "\n",
    "lservice = build('language', 'v1beta1', developerKey=APIKEY)\n",
    "for tweet in google['tweet_text']:\n",
    "  response = lservice.documents().analyzeSentiment(\n",
    "    body={\n",
    "      'document': {\n",
    "         'type': 'PLAIN_TEXT',\n",
    "         'content': tweet\n",
    "      }\n",
    "    }).execute()\n",
    "  polarity.append(response['documentSentiment']['polarity'])\n",
    "  magnitude.append(response['documentSentiment']['magnitude'])\n",
    "\n",
    "print(len(polarity))\n",
    "#print('POLARITY=%s MAGNITUDE=%s for %s' % (polarity, magnitude, tweet))"
   ],
   "metadata": {
    "collapsed": false,
    "pycharm": {
     "name": "#%%\n"
    }
   }
  },
  {
   "cell_type": "code",
   "execution_count": null,
   "outputs": [],
   "source": [
    "google['polarity']=polarity\n",
    "google['magnitude']=magnitude\n",
    "google.head()"
   ],
   "metadata": {
    "collapsed": false,
    "pycharm": {
     "name": "#%%\n"
    }
   }
  },
  {
   "cell_type": "code",
   "execution_count": null,
   "outputs": [],
   "source": [
    "google['datef']=pd.to_datetime(google['tweet_timestamp'], yearfirst='TRUE')\n",
    "google['datef'].head()"
   ],
   "metadata": {
    "collapsed": false,
    "pycharm": {
     "name": "#%%\n"
    }
   }
  },
  {
   "cell_type": "code",
   "execution_count": null,
   "outputs": [],
   "source": [
    "#averages\n",
    "polavg=np.mean(google['polarity'])\n",
    "magavg=np.mean(google['magnitude'])\n",
    "print('polarity', polavg, 'magnitude', magavg)"
   ],
   "metadata": {
    "collapsed": false,
    "pycharm": {
     "name": "#%%\n"
    }
   }
  },
  {
   "cell_type": "code",
   "execution_count": null,
   "outputs": [],
   "source": [
    "data = pd.concat([google['datef'], google['magnitude']], axis=1)\n",
    "data.set_index('datef',inplace=True)\n",
    "fig, ax = plt.subplots(figsize=(15,7))\n",
    "data.plot(ax=ax, legend=False)\n",
    "ax.axhline(y=magavg, linewidth=4, color='r')\n",
    "ax.xaxis.set_major_locator(mdates.MinuteLocator(interval=5))\n",
    "ax.xaxis.set_major_formatter(mdates.DateFormatter('%M'))\n",
    "ax.set_xlabel('Date (minutes from 23rd hour on Nov 1 2018)')\n",
    "ax.set_ylabel('Magnitude')"
   ],
   "metadata": {
    "collapsed": false,
    "pycharm": {
     "name": "#%%\n"
    }
   }
  },
  {
   "cell_type": "code",
   "execution_count": null,
   "outputs": [],
   "source": [
    "data2 = pd.concat([google['datef'], google['polarity']], axis=1)\n",
    "data2.set_index('datef',inplace=True)\n",
    "fig, ax2 = plt.subplots(figsize=(15,7))\n",
    "data2.plot(ax=ax2, legend=False)\n",
    "ax2.axhline(y=polavg, linewidth=4, color='r')\n",
    "ax2.xaxis.set_major_locator(mdates.MinuteLocator(interval=5))\n",
    "ax2.xaxis.set_major_formatter(mdates.DateFormatter('%M'))\n",
    "ax2.set_xlabel('Date (minutes from 23rd hour on Nov 1 2018)')\n",
    "ax2.set_ylabel('Polarity')"
   ],
   "metadata": {
    "collapsed": false,
    "pycharm": {
     "name": "#%%\n"
    }
   }
  },
  {
   "cell_type": "markdown",
   "source": [
    "High magnitude tweets are more impactful than low magnitude tweets, a weak statement doesn't say much. We will concentrate only on statements with a magnitude of 0.5 or higher."
   ],
   "metadata": {
    "collapsed": false
   }
  },
  {
   "cell_type": "code",
   "execution_count": null,
   "outputs": [],
   "source": [
    "fig, ax = plt.subplots()\n",
    "ax.figure.set_size_inches(10,4)\n",
    "ax.grid(False)\n",
    "#ax.scatter(google.magnitude[google['magnitude'] >=0.5], google.polarity[google['magnitude'] >=0.5], s=120, c='black', alpha=0.5)\n",
    "ax.scatter(google.magnitude, google.polarity, s=120, c='black', alpha=0.5)\n",
    "ax.set(xlabel='magnitude', ylabel='polarity')\n",
    "plt.show()"
   ],
   "metadata": {
    "collapsed": false,
    "pycharm": {
     "name": "#%%\n"
    }
   }
  },
  {
   "cell_type": "markdown",
   "source": [
    "We can also see that things around zero polarity (neither very positive nor negative) are not interesting to flag "
   ],
   "metadata": {
    "collapsed": false
   }
  },
  {
   "cell_type": "code",
   "execution_count": null,
   "outputs": [],
   "source": [
    " love=google[(google['magnitude'] >=0.5) & (google['polarity'] >=0.5)]\n",
    " hate=google[(google['magnitude'] >=0.5) & (google['polarity'] <= -0.5)] "
   ],
   "metadata": {
    "collapsed": false,
    "pycharm": {
     "name": "#%%\n"
    }
   }
  },
  {
   "cell_type": "code",
   "execution_count": null,
   "outputs": [],
   "source": [
    "print(len(google['magnitude']), len(love['magnitude']), len(hate['magnitude']))\n",
    "print(\"weak\", len(google['magnitude']) - (len(love['magnitude'])+len(hate['magnitude'])))"
   ],
   "metadata": {
    "collapsed": false,
    "pycharm": {
     "name": "#%%\n"
    }
   }
  },
  {
   "cell_type": "code",
   "execution_count": null,
   "outputs": [],
   "source": [
    "labels = ['loves', 'hates', 'weak']\n",
    "sizes = [30, 115, 437]\n",
    "colors = ['gold', 'lightskyblue', 'lightcoral']\n",
    "patches, texts = plt.pie(sizes, colors=colors, shadow=True, startangle=90)\n",
    "plt.legend(patches, labels, loc=\"best\")\n",
    "plt.axis('equal')\n",
    "plt.tight_layout()\n",
    "plt.show()"
   ],
   "metadata": {
    "collapsed": false,
    "pycharm": {
     "name": "#%%\n"
    }
   }
  },
  {
   "cell_type": "code",
   "execution_count": null,
   "outputs": [],
   "source": [
    "fig, ax= plt.subplots()\n",
    "ax.scatter(love.magnitude, love.polarity, s=120, c='purple', alpha=0.5)\n",
    "ax.scatter(hate.magnitude, hate.polarity, s=120, c='red', alpha=0.5)\n",
    "ax.figure.set_size_inches(10,4)\n",
    "ax.grid(False) \n",
    "ax.set(xlabel='magnitude >0.5', ylabel='abs(polarity) >=0.5')\n",
    "plt.show()"
   ],
   "metadata": {
    "collapsed": false,
    "pycharm": {
     "name": "#%%\n"
    }
   }
  },
  {
   "cell_type": "code",
   "execution_count": null,
   "outputs": [],
   "source": [
    "fig, ax1 = plt.subplots()\n",
    "ax1.set_xlabel('Date (minutes from 23rd hour on Nov 1 2018)')\n",
    "ax1.set_ylabel('magnitude')\n",
    "ax1.grid(False)\n",
    "ax1.xaxis.set_major_locator(mdates.MinuteLocator(interval=5))\n",
    "ax1.xaxis.set_major_formatter(mdates.DateFormatter('%M'))\n",
    "ax1.figure.set_size_inches(10,4)\n",
    "ax1.plot(love['datef'], love['magnitude'], 'g*', markersize=20, alpha=0.5)\n",
    "ax1.plot(hate['datef'], hate['magnitude'], 'r*', markersize=20, alpha=0.5)\n",
    "ax2=ax1.twinx()\n",
    "ax2.grid(False)\n",
    "ax2.plot(love.datef, love.polarity, 'g.', markersize=20, alpha=0.5)\n",
    "ax2.plot(hate.datef, hate.polarity, 'r.', markersize=20, alpha=0.5)\n",
    "ax2.set_ylabel('polarity')\n",
    "#ax2.axhline(y=polavg, linewidth=4, color='r')\n",
    "plt.show()"
   ],
   "metadata": {
    "collapsed": false,
    "pycharm": {
     "name": "#%%\n"
    }
   }
  },
  {
   "cell_type": "code",
   "execution_count": null,
   "outputs": [],
   "source": [
    "fig, ax = plt.subplots()\n",
    "ax.set_xlabel('Date (minutes from 23rd hour on Nov 1 2018)')\n",
    "ax.grid(False)\n",
    "ax.xaxis.set_major_locator(mdates.MinuteLocator(interval=5))\n",
    "ax.xaxis.set_major_formatter(mdates.DateFormatter('%M'))\n",
    "ax.figure.set_size_inches(10,4)\n",
    "ax.plot(love['datef'], love['magnitude'], 'g', linestyle=':', marker='*', linewidth=2, markersize=20, alpha=0.5)\n",
    "ax.plot(hate['datef'], hate['magnitude'], 'k', linestyle=':', marker='.', linewidth=2, markersize=20, alpha=0.5)\n",
    "ax.set_ylabel('magnitude')\n",
    "plt.show()"
   ],
   "metadata": {
    "collapsed": false,
    "pycharm": {
     "name": "#%%\n"
    }
   }
  },
  {
   "cell_type": "code",
   "execution_count": null,
   "outputs": [],
   "source": [
    "fig, ax = plt.subplots()\n",
    "ax.set_xlabel('Date (minutes from 23rd hour on Nov 1 2018)')\n",
    "ax.set_ylabel('polarity')\n",
    "ax.grid(False)\n",
    "ax.xaxis.set_major_locator(mdates.MinuteLocator(interval=5))\n",
    "ax.xaxis.set_major_formatter(mdates.DateFormatter('%M'))\n",
    "ax.figure.set_size_inches(10,4)\n",
    "ax.plot(love['datef'], love['polarity'], 'b', linestyle=':', marker='.', linewidth=2, markersize=20, alpha=0.5)\n",
    "ax.plot(hate['datef'], hate['polarity'], 'r', linestyle=':', marker='.', linewidth=2, markersize=20, alpha=0.5)\n",
    "plt.show()"
   ],
   "metadata": {
    "collapsed": false,
    "pycharm": {
     "name": "#%%\n"
    }
   }
  },
  {
   "cell_type": "code",
   "execution_count": null,
   "outputs": [],
   "source": [],
   "metadata": {
    "collapsed": false,
    "pycharm": {
     "name": "#%%\n"
    }
   }
  }
 ],
 "metadata": {
  "kernelspec": {
   "display_name": "Python 3",
   "language": "python",
   "name": "python3"
  },
  "language_info": {
   "codemirror_mode": {
    "name": "ipython",
    "version": 3
   },
   "file_extension": ".py",
   "mimetype": "text/x-python",
   "name": "python",
   "nbconvert_exporter": "python",
   "pygments_lexer": "ipython3",
   "version": "3.5.5"
  }
 },
 "nbformat": 4,
 "nbformat_minor": 2
}